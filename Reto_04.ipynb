{
  "nbformat": 4,
  "nbformat_minor": 0,
  "metadata": {
    "colab": {
      "provenance": []
    },
    "kernelspec": {
      "name": "python3",
      "display_name": "Python 3"
    },
    "language_info": {
      "name": "python"
    }
  },
  "cells": [
    {
      "cell_type": "markdown",
      "source": [
        "1. Dado un número entero, determinar si ese número corresponde al código ASCII de una vocal minúscula."
      ],
      "metadata": {
        "id": "oESra_54vOe3"
      }
    },
    {
      "cell_type": "code",
      "source": [
        "a : int\n",
        "a = int(input(\"Ingrese un entero\"))\n",
        "if a == 97:\n",
        "  print(\"La vocal para el codigo ASCCI\",a, \"es a\")\n",
        "elif a == 101:\n",
        "  print(\"La vocal para el codigo ASCCI\", a , \" es e\")\n",
        "elif a ==105:\n",
        "  print(\"La vocal para el codigo ASCCI\", a , \"es i\")\n",
        "elif a ==111:\n",
        "  print(\"La vocal para el codigo ASCCI\", a , \"es o\")\n",
        "elif a ==117:\n",
        "  print(\"La vocal para el codigo ASCCI\", a , \"es u\")\n",
        "else:\n",
        "  print(\"No hay vocal minucula para el codigo ASCII\", a)"
      ],
      "metadata": {
        "colab": {
          "base_uri": "https://localhost:8080/"
        },
        "id": "in57-C6svSLX",
        "outputId": "674bbafe-a50e-45bc-a83c-e26f2c716c9c"
      },
      "execution_count": null,
      "outputs": [
        {
          "output_type": "stream",
          "name": "stdout",
          "text": [
            "Ingrese un entero117\n",
            "La vocal para el codigo ASCCI 117 es u\n"
          ]
        }
      ]
    },
    {
      "cell_type": "markdown",
      "source": [
        "2. Dada una cadena de longitud 1, determine si el código ASCII de\n",
        "primera letra de la cadena es par o no.\n",
        "\n"
      ],
      "metadata": {
        "id": "Wl6KHIj7y93P"
      }
    },
    {
      "cell_type": "code",
      "source": [
        "x : str\n",
        "x = str(input(\"La cadena debe tener longitud 1 \"))\n",
        "if ord(x) % 2 == 0:\n",
        "  print(\"El codigo ASCII de \", x , \"es par\")\n",
        "else:\n",
        "  print(\"El codigo ASCII de \", x , \"es impar\")\n",
        "print(\"El codigo ASCII de\", x , \" es \", ord(x))"
      ],
      "metadata": {
        "id": "wxNPmTlwzFNf",
        "colab": {
          "base_uri": "https://localhost:8080/"
        },
        "outputId": "d7cf305c-1777-4a06-c6c2-7fa019308fe5"
      },
      "execution_count": null,
      "outputs": [
        {
          "output_type": "stream",
          "name": "stdout",
          "text": [
            "La cadena debe tener longitud 1 *\n",
            "El codigo ASCII de  * es par\n",
            "El codigo ASCII de *  es  42\n"
          ]
        }
      ]
    },
    {
      "cell_type": "markdown",
      "source": [
        "3. Dado un carácter, construya un programa en Python para determinar si el carácter es un dígito o no.\n",
        "\n"
      ],
      "metadata": {
        "id": "cCZ0dFgxzDDO"
      }
    },
    {
      "cell_type": "code",
      "source": [
        "x = input(\"Introduce un carácter: \")\n",
        "\n",
        "if len(x) != 1:\n",
        "    print(\"Por favor, introduce un solo carácter.\")\n",
        "else:\n",
        "    try:\n",
        "        # Intentar convertir el carácter a un entero\n",
        "        digito = int(x)\n",
        "        print(f\"El carácter '{x}' es un dígito.\")\n",
        "    except ValueError:\n",
        "\n",
        "        print(f\"El carácter '{x}' no es un dígito.\")\n"
      ],
      "metadata": {
        "id": "gRDwo1yz2T8Q"
      },
      "execution_count": null,
      "outputs": []
    },
    {
      "cell_type": "markdown",
      "source": [
        "4. Realice un programa que lea dos números reales y determine si el primero es múltiplo del segundo.\n",
        "\n"
      ],
      "metadata": {
        "id": "9ej7qekH1Jcn"
      }
    },
    {
      "cell_type": "code",
      "source": [
        "x : float\n",
        "y : float\n",
        "\n",
        "x = float(input(\"Ingrese primer numero \"))\n",
        "y = float(input(\"Ingrese segundo numero \"))\n",
        "\n",
        "if x % y == 0:\n",
        "  print(x, \"es multiplo de \", y)\n",
        "else:\n",
        "  print(x, \"no es multiplo de \", y)\n"
      ],
      "metadata": {
        "id": "P2E7E_zP2UQn",
        "colab": {
          "base_uri": "https://localhost:8080/"
        },
        "outputId": "6e8e80d7-b1dd-4958-eb98-017b0a06d571"
      },
      "execution_count": null,
      "outputs": [
        {
          "output_type": "stream",
          "name": "stdout",
          "text": [
            "Ingrese primer numero 122\n",
            "Ingrese segundo numero 2\n",
            "122.0 es multiplo de  2.0\n"
          ]
        }
      ]
    },
    {
      "cell_type": "markdown",
      "source": [
        "5. Dado un número real x, construya un programa que permita determinar si el número es positivo, negativo o cero. Para cada caso de debe imprimir el texto que se especifica a continuación:\n",
        "\n",
        "\n",
        "\n",
        "*   Positivo: \"El número x es positivo\"\n",
        "*   Negativo: \"El número x es negativo\"\n",
        "*   Cero (0): \"El número x es el neutro para la suma\"\n"
      ],
      "metadata": {
        "id": "O0elxAuu1MOv"
      }
    },
    {
      "cell_type": "code",
      "source": [
        "a : float\n",
        "a = float(input(\"Ingrese un numero: \"))\n",
        "if a > 0:\n",
        "  print(\"El numero \"+str(a)+\" es positivo\")\n",
        "elif a < 0:\n",
        "  print(\"El numero \"+str(a)+\" es negativo\")\n",
        "else:\n",
        "\n",
        "  print(\"El numero \"+str(a)+\" es el neutro para la suma\")"
      ],
      "metadata": {
        "colab": {
          "base_uri": "https://localhost:8080/"
        },
        "id": "heprZnQh1DiA",
        "outputId": "8b44f282-b5fd-432a-ed13-6db8e8a7bc6b"
      },
      "execution_count": null,
      "outputs": [
        {
          "output_type": "stream",
          "name": "stdout",
          "text": [
            "Ingrese un numero: 0\n",
            "El numero 0.0 es el neutro para la suma\n"
          ]
        }
      ]
    },
    {
      "cell_type": "markdown",
      "source": [
        "6. Dado el centro y el radio de un círculo, determinar si un punto de R2 pertenece o no al interior del círculo.\n",
        "\n"
      ],
      "metadata": {
        "id": "d8rYlaIn1PQf"
      }
    },
    {
      "cell_type": "code",
      "source": [
        "x:float\n",
        "y:float\n",
        "h:float\n",
        "k:float\n",
        "\n",
        "print(\"Cordenadas del centro\")\n",
        "x=float(input(\"Ingrese primer numero \"))\n",
        "y=float(input(\"Ingrese segundo numero \"))\n",
        "r=float(input(\"Ingrese radio \"))\n",
        "print(\"Cordenadas del segudo punto\")\n",
        "h=float(input(\"Ingrese primer numero \"))\n",
        "k=float(input(\"Ingrese segundo numero \"))\n",
        "\n",
        "if (x-h)*2+(y-k)*2==r*2:\n",
        "  print(\"Si pertence al interior del circulo\")\n",
        "else:\n",
        "  print(\"No pertenece al interior del circulo\")\n"
      ],
      "metadata": {
        "id": "LfGzFd472Xhu",
        "colab": {
          "base_uri": "https://localhost:8080/"
        },
        "outputId": "fc8a250a-de2a-4f50-a3cc-ea2179e07318"
      },
      "execution_count": 59,
      "outputs": [
        {
          "output_type": "stream",
          "name": "stdout",
          "text": [
            "Cordenadas del centro\n",
            "Ingrese primer numero3\n",
            "Ingrese segundo numero3\n",
            "Ingrese radio3\n",
            "Cordenadas del segudo punto\n",
            "Ingrese primer numero6\n",
            "Ingrese segundo numero7\n",
            "no pertenece\n"
          ]
        }
      ]
    },
    {
      "cell_type": "markdown",
      "source": [
        "7. Dadas tres longitudes positivas, determinar si con esas longitudes se puede construir un triángulo.\n"
      ],
      "metadata": {
        "id": "3I_UGO_P1S7o"
      }
    },
    {
      "cell_type": "code",
      "source": [
        "a = float(input(\"Introduce la longitud del lado a: \"))\n",
        "b = float(input(\"Introduce la longitud del lado b: \"))\n",
        "c = float(input(\"Introduce la longitud del lado c: \"))\n",
        "\n",
        "if a <= 0 or b <= 0 or c <= 0:\n",
        "  print(\"Las longitudes deben ser positivas.\")\n",
        "if a + b > c and a + c > b and b + c > a:\n",
        "  print(\"Las longitudes pueden formar un triángulo.\")\n",
        "else:\n",
        "  print(\"Las longitudes no pueden formar un triángulo.\")\n"
      ],
      "metadata": {
        "colab": {
          "base_uri": "https://localhost:8080/"
        },
        "id": "2N0GliqUAjhu",
        "outputId": "a77700ba-06e2-495c-f229-a2dd3e8da932"
      },
      "execution_count": 46,
      "outputs": [
        {
          "output_type": "stream",
          "name": "stdout",
          "text": [
            "Introduce la longitud del lado a: 3\n",
            "Introduce la longitud del lado b: 2\n",
            "Introduce la longitud del lado c: 7\n",
            "Las longitudes no pueden formar un triángulo.\n"
          ]
        }
      ]
    },
    {
      "cell_type": "markdown",
      "source": [
        "8. Escriba un programa que reciba el nombre en minúsculas de un país de America y retorne la ciudad capital, si el país no pertenece al continente debe arrojar país no identificado (Utilice match-case)."
      ],
      "metadata": {
        "id": "sUcsFT9Y1WGh"
      }
    },
    {
      "cell_type": "code",
      "source": [
        "print(\"*Solo en minusculas y sin tildes\")\n",
        "pais = input(\"Ingrese pais que se encuentre en America \")\n",
        "\n",
        "match pais:\n",
        "  case \"argentina\":\n",
        "    print(\"Buenos Aires\")\n",
        "  case \"bolivia\":\n",
        "    print(\"Sucre\")\n",
        "  case \"brasil\":\n",
        "    print(\"Brasilia\")\n",
        "  case \"chile\":\n",
        "    print(\"Santiago de Chile\")\n",
        "  case \"colombia\":\n",
        "    print(\"Bogotá\")\n",
        "  case \"ecuador\":\n",
        "    print(\"Quito\")\n",
        "  case  \"paraguay\":\n",
        "    print(\"Asunción\")\n",
        "  case \"peru\":\n",
        "    print(\"Lima\")\n",
        "  case \"surinam\":\n",
        "    print(\"Parabarimo\")\n",
        "  case \"trinidad y tobago\":\n",
        "    print(\"Puerto España\")\n",
        "  case \"uruguay\":\n",
        "    print(\"Montevideo\")\n",
        "  case \"venezuela\":\n",
        "    print(\"Caracas\")\n",
        "  case \"belice\":\n",
        "    print(\"Belmopán\")\n",
        "  case \"costa rica\":\n",
        "    print(\"San José\")\n",
        "  case \"el salvador\":\n",
        "    print(\"San Salvador\")\n",
        "  case \"guatemala\":\n",
        "    print(\"Ciudad de Guatemala\")\n",
        "  case \"honduras\":\n",
        "    print(\"Tegucigalpa\")\n",
        "  case \"nicaragua\":\n",
        "    print(\"Managua\")\n",
        "  case \"panama\":\n",
        "    print(\"Panamá\")\n",
        "  case \"canada\":\n",
        "    print(\"Otawwa\")\n",
        "  case \"estados unidos\":\n",
        "    print(\"Washington DC\")\n",
        "  case \"mexico\":\n",
        "    print(\"México DF\")\n",
        "  case _:\n",
        "        print(\"Capital no encontrada.\")\n"
      ],
      "metadata": {
        "id": "-Q73rSZY2W3J",
        "colab": {
          "base_uri": "https://localhost:8080/"
        },
        "outputId": "5c45fa5f-5b16-435e-8342-35f486a42813"
      },
      "execution_count": null,
      "outputs": [
        {
          "output_type": "stream",
          "name": "stdout",
          "text": [
            "*Solo en minusculas y sin tildes\n",
            "Ingrese pais que se encuentre en America belice\n",
            "Belmopán\n"
          ]
        }
      ]
    }
  ]
}